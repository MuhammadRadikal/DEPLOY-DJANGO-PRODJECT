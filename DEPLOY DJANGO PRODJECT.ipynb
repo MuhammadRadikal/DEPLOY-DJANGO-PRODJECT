{
 "cells": [
  {
   "cell_type": "markdown",
   "id": "3df1144b",
   "metadata": {},
   "source": [
    "Tahapan Deploy Django Prodject"
   ]
  },
  {
   "cell_type": "code",
   "execution_count": null,
   "id": "e43e00d0",
   "metadata": {},
   "outputs": [],
   "source": [
    "1.\tPastikan Anda telah mengakses VPS Anda melalui SSH menggunakan nama pengguna root\n",
    "\n",
    "    - Untuk mengakses robot terminal pada VPS anda terlebih dahulu anda mengetahui SSH Keygen Komputer anda\n",
    "      Berikut totorial yang dapat untuk memperoleh SSH Keygen\n",
    "      https://www.youtube.com/watch?v=N9YrHvyT1rs&t=26s\n",
    "    - Setelah memperoleh SSH Keygen, pada halaman VPS  pilih menu Settings => SSH Key => add SSH Key\n",
    "    - Setelah ditampilkan form add SSH Key anda dapat mmenginputkan nama sesuai keinginan ande dan SSH Key sesuai dengan\n",
    "      SSH Keygen yang sebelumnya telah anda dapatkan\n",
    "    - Selanjutnya pada laman VPS anda, Buka menu Overview => SSH access => Copy terminal contoh\n",
    "      Terminal:      ssh root@31.220.107.145\n",
    "    - Buka terminal bawaan anda, disini saya menggunakan terminal GIT karena terminal VPS menggunakan OS Ubuntu\n",
    "    - Pastekan ssh yang sebelumnya anda copy ke dalam terminal GIT dan tekan enter. Secara otomatis terminal GIT anda akan\n",
    "      terkoneksi dengan terminal VPS anda"
   ]
  },
  {
   "cell_type": "code",
   "execution_count": null,
   "id": "aa94a66e",
   "metadata": {},
   "outputs": [],
   "source": [
    "2. apt update"
   ]
  },
  {
   "cell_type": "code",
   "execution_count": null,
   "id": "f49e755f",
   "metadata": {},
   "outputs": [],
   "source": [
    "3. apt upgrade"
   ]
  },
  {
   "cell_type": "code",
   "execution_count": null,
   "id": "c27c7fb4",
   "metadata": {},
   "outputs": [],
   "source": [
    "4.cek versi\n",
    "  apache2 -v\n",
    "  python --version\n",
    "  apache2ctl -M\n",
    "  pip --version\n",
    "  SQLite is Included with Python\n",
    "  python -c \"import sqlite3; print(sqlite3.sqlite_version)\""
   ]
  },
  {
   "cell_type": "code",
   "execution_count": null,
   "id": "6902a0ec",
   "metadata": {},
   "outputs": [],
   "source": [
    "5. Jika belum terinstall\n",
    "\n",
    "    - apt install apache2\n",
    "    - apt install python\n",
    "    - apt install libapache2-mod-wsgi-py3\n",
    "    - apt install python3-pip"
   ]
  },
  {
   "cell_type": "code",
   "execution_count": null,
   "id": "4556e624",
   "metadata": {},
   "outputs": [],
   "source": [
    "6. Pastikan anda telah menginstal gunicorn, WhiteNoise dan membuat file gunicorn_config.py agar kita dapat menjalankan website kita \n",
    "   secara life\n",
    "    - install gunicorn\n",
    "      pip install gunicorn\n",
    "    - isian file gunicorn_config.py\n",
    "    \n",
    "import os\n",
    "from whitenoise import WhiteNoise\n",
    "from Mywebsite.wsgi import application\n",
    "\n",
    "# Assuming your virtual environment is in /var/www/Skripsi/ven\n",
    "activate_this = '/var/www/Skripsi/ven/bin/activate_this.py'\n",
    "exec(open(activate_this).read(), dict(__file__=activate_this))\n",
    "\n",
    "application = WhiteNoise(application, root=os.path.join(os.path.dirname(__file__), '/static/'))\n",
    "STATIC_ROOT = os.path.join(os.path.dirname(__file__), '/static/')\n",
    "#application = WhiteNoise(application, root=STATIC_ROOT)\n",
    "\n",
    "bind = \"0.0.0.0:8000\"\n",
    "workers = 4\n",
    "timeout = 240\n",
    "#forwarded_allow_ips = '*'\n",
    "#secure_scheme_headers = {'X-FORWARDED-PROTO': 'http'}\n",
    "\n",
    "chdir = '/var/www/Skripsi'  # Path to your Django project\n",
    "\n",
    "# Static files\n",
    "static_path = '/var/www/Skripsi/static'  # Path to your static files\n",
    "static_url = '/static/'\n",
    "\n",
    "# Django WSGI module\n",
    "#module = 'Mywebsite.wsgi:application'\n"
   ]
  },
  {
   "cell_type": "code",
   "execution_count": null,
   "id": "ac603924",
   "metadata": {},
   "outputs": [],
   "source": [
    "7. Ada beberapa hal yang perlu di setting terlebih dahulu didalam file settings.py\n",
    "\n",
    "    - ALLOWED_HOSTS = ['127.0.0.1', 'mmradikal.site', '31.220.107.145'] tambahkan alamat IP dan domain anda\n",
    "    - CSRF_TRUSTED_ORIGINS = ['https://mmradikal.site', 'https://31.220.107.145'] membiarkan CSRF terhadap domain dan IP anda\n",
    "    - Mengubah\n",
    "      STATICFILES_DIRS = [\n",
    "            BASE_DIR / 'static',\n",
    "      ]\n",
    "        \n",
    "        Menjadi\n",
    "      import os\n",
    "      STATIC_ROOT = os.path.join(BASE_DIR, '/static/')"
   ]
  },
  {
   "cell_type": "code",
   "execution_count": null,
   "id": "140e31ef",
   "metadata": {},
   "outputs": [],
   "source": [
    "8. Sebelum melakukan push proyek django anda kedalam Github pastikan terdapat file requirements.txt\n",
    "\n",
    "   pip freeze > requirements.txt"
   ]
  },
  {
   "cell_type": "code",
   "execution_count": null,
   "id": "a954518c",
   "metadata": {},
   "outputs": [],
   "source": [
    "9. Melakukan push proyek django anda kedalam Github\n",
    "10. Pada terminal VPS, buka directory cd /var/www/ sebagai tempat penyimpanan proyek django anda kemudian clone proyek django \n",
    "   yang telah di push kedalam Github"
   ]
  },
  {
   "cell_type": "code",
   "execution_count": null,
   "id": "9b8991c3",
   "metadata": {},
   "outputs": [],
   "source": [
    "11. Membuat env baru dengan menjalankan\n",
    "    python3 -m venv myenv"
   ]
  },
  {
   "cell_type": "code",
   "execution_count": null,
   "id": "9b43b1d6",
   "metadata": {},
   "outputs": [],
   "source": [
    "12. Mengumpulkan file static dengan menjalankan \n",
    "    python manage.py collectstatic"
   ]
  },
  {
   "cell_type": "code",
   "execution_count": null,
   "id": "c9de2b6f",
   "metadata": {},
   "outputs": [],
   "source": [
    "13. Membuat file json untuk mengamankan SECRET_KEY\n",
    "\n",
    "    Contoh\n",
    "    nano /etc/config.json yang berisikan SECRET_KEY\n",
    "    \n",
    "      GNU nano 6.2                                                                  /etc/config.json\n",
    "    {\n",
    "            \"SECRET_KEY\" : \"django-insecure-+n$gjvo=#4b04*21-x$j!)7pgd^0pf5kvauwbp%+m4b9u9*@n=\"\n",
    "    }"
   ]
  },
  {
   "cell_type": "code",
   "execution_count": null,
   "id": "ac244b99",
   "metadata": {},
   "outputs": [],
   "source": [
    "14. Configurasikan config.json dengan proyek django anda dengan mengubah pengaturan pada settings.py menjadi\n",
    "\n",
    "\n",
    "from pathlib import Path\n",
    "import json\n",
    "\n",
    "with open('/etc/config.json') as config_files:\n",
    "    config = json.load(config_files)\n",
    "# Build paths inside the project like this: BASE_DIR / 'subdir'.\n",
    "BASE_DIR = Path(__file__).resolve().parent.parent\n",
    "\n",
    "\n",
    "# Quick-start development settings - unsuitable for production\n",
    "# See https://docs.djangoproject.com/en/4.2/howto/deployment/checklist/\n",
    "\n",
    "# SECURITY WARNING: keep the secret key used in production secret!\n",
    "SECRET_KEY = config['SECRET_KEY']"
   ]
  },
  {
   "cell_type": "code",
   "execution_count": null,
   "id": "5dbdd9d0",
   "metadata": {},
   "outputs": [],
   "source": [
    "15. Konfigurasikan server apache2 anda dengan proyek django\n",
    "    - buka cd /etc/apache2/sites-available/\n",
    "    - kopikan konfigurasi defult 000-default.conf kedalam konfigurasi baru sebagai konfigurasi proyek django anda\n",
    "    \n",
    "    cp defult 000-default.conf django_project.conf\n",
    "    \n",
    "    - Ubah setingan django_project.conf menjadi\n",
    "    \n",
    "<VirtualHost *:80>\n",
    "        # The ServerName directive sets the request scheme, hostname and port that\n",
    "        # the server uses to identify itself. This is used when creating\n",
    "        # redirection URLs. In the context of virtual hosts, the ServerName\n",
    "        # specifies what hostname must appear in the request's Host: header to\n",
    "        # match this virtual host. For the default virtual host (this file) this\n",
    "        # value is not decisive as it is used as a last resort host regardless.\n",
    "        # However, you must set it for any further virtual host explicitly.\n",
    "        #ServerName www.example.com\n",
    "\n",
    "        ServerAdmin webmaster@localhost\n",
    "        ServerName mmradikal.site\n",
    "        DocumentRoot /var/www/Skripsi\n",
    "\n",
    "        ProxyPass /static/ !\n",
    "        ProxyPass / http://127.0.0.1:8000/\n",
    "        ProxyPassReverse / http://127.0.0.1:8000/\n",
    "\n",
    "#        RequestHeader set X-Forwarded-Proto \"http\"\n",
    "        # Available loglevels: trace8, ..., trace1, debug, info, notice, warn,\n",
    "        # error, crit, alert, emerg.\n",
    "        # It is also possible to configure the loglevel for particular\n",
    "        # modules, e.g.\n",
    "        #LogLevel info ssl:warn\n",
    "\n",
    "        <Directory /var/www/Skripsi>\n",
    "                AllowOverride All\n",
    "        </Directory>\n",
    "\n",
    "\n",
    "        Alias /static /var/www/Skripsi/static\n",
    "       <Directory /var/www/Skripsi/static>\n",
    "                Require all granted\n",
    "        </Directory>\n",
    "\n",
    "        <Directory /var/www/Skripsi/Mywebsite>\n",
    "                <Files wsgi.py>\n",
    "                        Require all granted\n",
    "                </Files>\n",
    "        </Directory>\n",
    "\n",
    "        WSGIDaemonProcess Skripsi python-home=/var/www/Skripsi/ven python-path=/var/www/Skripsi\n",
    "        WSGIProcessGroup Skripsi\n",
    "        WSGIScriptAlias / /var/www/Skripsi/Mywebsite/wsgi.py\n",
    "\n",
    "        ErrorLog ${APACHE_LOG_DIR}/error.log\n",
    "        CustomLog ${APACHE_LOG_DIR}/access.log combined\n",
    "\n",
    "        # For most configuration files from conf-available/, which are\n",
    "        # enabled or disabled at a global level, it is possible to\n",
    "        # include a line for only one particular virtual host. For example the\n",
    "        # following line enables the CGI configuration for this host only\n",
    "        # after it has been globally disabled with \"a2disconf\".\n",
    "        #Include conf-available/serve-cgi-bin.conf\n",
    "\n",
    "RewriteEngine on\n",
    "RewriteCond %{SERVER_NAME} =mmradikal.site\n",
    "RewriteRule ^ https://%{SERVER_NAME}%{REQUEST_URI} [END,NE,R=permanent]\n",
    "</VirtualHost>\n"
   ]
  },
  {
   "cell_type": "code",
   "execution_count": null,
   "id": "0095a9de",
   "metadata": {},
   "outputs": [],
   "source": [
    "16. Konfigurasi Database dengan settings.py\n",
    "    - Membuat Database didalam VPS\n",
    "        * Masuk kedalam mysql anda\n",
    "          mysql -u root -p\n",
    "        * jika anda lupa pasword anda dapat membuat user baru pada mysql\n",
    "        \n",
    "          https://www.youtube.com/watch?v=CB9rsOYv71Q\n",
    "                \n",
    "        * Setelah membuat user baru dan masuk kedalam mysql tahapan selanjutnya membuat database baru\n",
    "          CREATE DATABASE nama_database;\n",
    "    - Melakukan seting Database pada sttings.py\n",
    "      \n",
    "        DATABASES = {\n",
    "            'default': {\n",
    "                'ENGINE': 'django.db.backends.mysql',\n",
    "                'NAME': 'DataPenjualan',  # Ganti dengan nama database yang Anda buat\n",
    "                'USER': 'ikal123',  # Ganti dengan nama pengguna MySQL Anda\n",
    "                'PASSWORD': '@ZXCVqwer123',  # Ganti dengan kata sandi MySQL Anda\n",
    "                'HOST': 'localhost',\n",
    "                'PORT': '3306',\n",
    "                'OPTIONS': {\n",
    "                    'init_command': \"SET sql_mode='STRICT_TRANS_TABLES'\",\n",
    "                    'charset': 'utf8mb4',\n",
    "                },\n",
    "            }\n",
    "        }\n",
    "17. migrasi Database\n",
    "18. Membuat Superuser"
   ]
  },
  {
   "cell_type": "code",
   "execution_count": null,
   "id": "95015e34",
   "metadata": {},
   "outputs": [],
   "source": [
    "19. Memastikan port 8000 mendapatkan izin \n",
    "    - ufw status\n",
    "    - ufw allow 8000"
   ]
  },
  {
   "cell_type": "code",
   "execution_count": null,
   "id": "df0c7107",
   "metadata": {},
   "outputs": [],
   "source": [
    "20. Membuat konfigurasi gunicorn agar tidak dijalankan manual\n",
    "    - membuat file configurasi baru\n",
    "      nano /etc/systemd/system/gunicorn.service\n",
    "    - seting konfigurasi\n",
    "\n",
    "[Unit]\n",
    "Description=Gunicorn service for My Project\n",
    "After=network.target\n",
    "\n",
    "[Service]\n",
    "User=root\n",
    "Group=root\n",
    "WorkingDirectory=/var/www/Skripsi\n",
    "ExecStart=/var/www/Skripsi/ven/bin/gunicorn Mywebsite.wsgi:application -c /var/www/Skripsi/gunicorn_config.py --log-level debug\n",
    "\n",
    "[Install]\n",
    "WantedBy=multi-user.target"
   ]
  },
  {
   "cell_type": "code",
   "execution_count": null,
   "id": "a4168a50",
   "metadata": {},
   "outputs": [],
   "source": [
    "21. Menjalankan dan memastikan gunicorn berjalan dengan normal\n",
    "    - systemctl daemon-reload\n",
    "    - systemctl restart gunicorn\n",
    "    - journalctl -u gunicorn -xe\n",
    "    - systemctl status gunicorn\n",
    "    - systemctl start gunicorn"
   ]
  },
  {
   "cell_type": "code",
   "execution_count": null,
   "id": "77e7de39",
   "metadata": {},
   "outputs": [],
   "source": [
    "22. Memastikan kembali server apache2 berjalan\n",
    "    - systemctl restart apache2\n",
    "    - journalctl -u apache2 -xe\n",
    "    - systemctl status apache2\n",
    "    - systemctl start apache2\n",
    "\n",
    "cek error\n",
    "tail -f /var/log/apache2/error.log"
   ]
  },
  {
   "cell_type": "code",
   "execution_count": null,
   "id": "9de9f466",
   "metadata": {},
   "outputs": [],
   "source": [
    "23. Mengubah http menjadi https\n",
    "    https://youtu.be/dYdv6pkCufk?si=rnHGx1M6oMZfVXO6"
   ]
  }
 ],
 "metadata": {
  "kernelspec": {
   "display_name": "Python 3 (ipykernel)",
   "language": "python",
   "name": "python3"
  },
  "language_info": {
   "codemirror_mode": {
    "name": "ipython",
    "version": 3
   },
   "file_extension": ".py",
   "mimetype": "text/x-python",
   "name": "python",
   "nbconvert_exporter": "python",
   "pygments_lexer": "ipython3",
   "version": "3.9.12"
  }
 },
 "nbformat": 4,
 "nbformat_minor": 5
}
